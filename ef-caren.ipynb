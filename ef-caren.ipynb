{
  "nbformat": 4,
  "nbformat_minor": 0,
  "metadata": {
    "colab": {
      "name": "Untitled12.ipynb",
      "provenance": []
    },
    "kernelspec": {
      "name": "python3",
      "display_name": "Python 3"
    }
  },
  "cells": [
    {
      "cell_type": "code",
      "metadata": {
        "id": "0GB8EFkH9d_N"
      },
      "source": [
        "import requests\n",
        "from bs4 import BeautifulSoup\n",
        "import csv\n",
        "from datetime import datetime"
      ],
      "execution_count": 2,
      "outputs": []
    },
    {
      "cell_type": "code",
      "metadata": {
        "id": "08UfRPMx9pcQ",
        "outputId": "1f475d1e-3f8c-4468-d41d-e245331da921",
        "colab": {
          "base_uri": "https://localhost:8080/"
        }
      },
      "source": [
        "url='https://www.ncbi.nlm.nih.gov/gene/?term=a'\n",
        "page=requests.get(url).text\n",
        "soup=BeautifulSoup(page,\"lxml\")\n",
        "tabla=soup.find('table',class_='jig-ncbigrid')\n",
        "print(tabla)\n"
      ],
      "execution_count": 4,
      "outputs": [
        {
          "output_type": "stream",
          "text": [
            "<table cellpadding=\"0\" cellspacing=\"0\" class=\"jig-ncbigrid gene-tabular-rprt\" data-jigconfig=\"isPageable: false, isPageToolbarHideable: true, pageSize:300\" style=\"width:100%;margin-top:0;\"><thead><tr><th>Name/Gene ID</th><th>Description</th><th>Location</th><th>Aliases</th></tr></thead><tbody><tr class=\"rprt\"><td class=\"gene-name-id\"><div class=\"rprtnumcol\"><div class=\"rprtnum nohighlight\"><label class=\"ui-helper-hidden-accessible\" for=\"UidCheckBox50518\">Select item 50518</label><input id=\"UidCheckBox50518\" name=\"EntrezSystem2.PEntrez.Gene.Gene_ResultsPanel.Gene_TabularDocsum.uid\" sid=\"1\" type=\"checkbox\" value=\"50518\"/></div></div><div><a href=\"/gene/50518\" ref=\"ordinalpos=1&amp;ncbi_uid=50518&amp;link_uid=50518\"><span class=\"highlight\" style=\"background-color:\">a</span></a></div><span class=\"gene-id\">ID: 50518</span></td><td>nonagouti [<em>Mus musculus</em> (house mouse)]</td><td>Chromosome 2, NC_000068.8 (154792519..154892932)</td><td><span class=\"highlight\" style=\"background-color:\">A</span>&lt;y&gt;, ASIP, ASP, Asgo, <span class=\"highlight\" style=\"background-color:\">a</span></td></tr><tr class=\"rprt\"><td class=\"gene-name-id\"><div class=\"rprtnumcol\"><div class=\"rprtnum nohighlight\"><label class=\"ui-helper-hidden-accessible\" for=\"UidCheckBox43852\">Select item 43852</label><input id=\"UidCheckBox43852\" name=\"EntrezSystem2.PEntrez.Gene.Gene_ResultsPanel.Gene_TabularDocsum.uid\" sid=\"2\" type=\"checkbox\" value=\"43852\"/></div></div><div><a href=\"/gene/43852\" ref=\"ordinalpos=2&amp;ncbi_uid=43852&amp;link_uid=43852\"><span class=\"highlight\" style=\"background-color:\">a</span></a></div><span class=\"gene-id\">ID: 43852</span></td><td>arc [<em>Drosophila melanogaster</em> (fruit fly)]</td><td>Chromosome 2R, NT_033778.4 (22136968..22172834)</td><td>Dmel_CG6741, Arc, CG13505, CG6741, Dmel\\CG6741, bran</td></tr><tr class=\"rprt\"><td class=\"gene-name-id\"><div class=\"rprtnumcol\"><div class=\"rprtnum nohighlight\"><label class=\"ui-helper-hidden-accessible\" for=\"UidCheckBox2703524\">Select item 2703524</label><input id=\"UidCheckBox2703524\" name=\"EntrezSystem2.PEntrez.Gene.Gene_ResultsPanel.Gene_TabularDocsum.uid\" sid=\"3\" type=\"checkbox\" value=\"2703524\"/></div></div><div><a href=\"/gene/2703524\" ref=\"ordinalpos=3&amp;ncbi_uid=2703524&amp;link_uid=2703524\"><span class=\"highlight\" style=\"background-color:\">A</span></a></div><span class=\"gene-id\">ID: 2703524</span></td><td>terminase large subunit family protein [<em>Escherichia virus Lambda</em>]</td><td>NC_001416.1 (711..2636)</td><td>lambdap02</td></tr><tr class=\"rprt\"><td class=\"gene-name-id\"><div class=\"rprtnumcol\"><div class=\"rprtnum nohighlight\"><label class=\"ui-helper-hidden-accessible\" for=\"UidCheckBox100532921\">Select item 100532921</label><input id=\"UidCheckBox100532921\" name=\"EntrezSystem2.PEntrez.Gene.Gene_ResultsPanel.Gene_TabularDocsum.uid\" sid=\"4\" type=\"checkbox\" value=\"100532921\"/></div></div><div><a href=\"/gene/100532921\" ref=\"ordinalpos=4&amp;ncbi_uid=100532921&amp;link_uid=100532921\"><span class=\"highlight\" style=\"background-color:\">A</span></a></div><span class=\"gene-id\">ID: 100532921</span></td><td>Agouti [<em>Ovis aries</em> (sheep)]</td><td></td><td></td></tr><tr class=\"rprt\"><td class=\"gene-name-id\"><div class=\"rprtnumcol\"><div class=\"rprtnum nohighlight\"><label class=\"ui-helper-hidden-accessible\" for=\"UidCheckBox1260690\">Select item 1260690</label><input id=\"UidCheckBox1260690\" name=\"EntrezSystem2.PEntrez.Gene.Gene_ResultsPanel.Gene_TabularDocsum.uid\" sid=\"5\" type=\"checkbox\" value=\"1260690\"/></div></div><div><a href=\"/gene/1260690\" ref=\"ordinalpos=5&amp;ncbi_uid=1260690&amp;link_uid=1260690\"><span class=\"highlight\" style=\"background-color:\">A</span></a></div><span class=\"gene-id\">ID: 1260690</span></td><td>replication initiation protein [<em>Enterobacteria phage alpha3</em>]</td><td>NC_001330.1 (759..2243)</td><td>alpha3p01</td></tr><tr class=\"rprt\"><td class=\"gene-name-id\"><div class=\"rprtnumcol\"><div class=\"rprtnum nohighlight\"><label class=\"ui-helper-hidden-accessible\" for=\"UidCheckBox17494423\">Select item 17494423</label><input id=\"UidCheckBox17494423\" name=\"EntrezSystem2.PEntrez.Gene.Gene_ResultsPanel.Gene_TabularDocsum.uid\" sid=\"6\" type=\"checkbox\" value=\"17494423\"/></div></div><div><a href=\"/gene/17494423\" ref=\"ordinalpos=6&amp;ncbi_uid=17494423&amp;link_uid=17494423\"><span class=\"highlight\" style=\"background-color:\">A</span></a></div><span class=\"gene-id\">ID: 17494423</span></td><td>replication endonuclease [<em>Enterobacteria phage fiAA91-ss</em>]</td><td>NC_022750.1 (28504..30801)</td><td>V185_gp39</td></tr><tr class=\"rprt\"><td class=\"gene-name-id\"><div class=\"rprtnumcol\"><div class=\"rprtnum nohighlight\"><label class=\"ui-helper-hidden-accessible\" for=\"UidCheckBox1261517\">Select item 1261517</label><input id=\"UidCheckBox1261517\" name=\"EntrezSystem2.PEntrez.Gene.Gene_ResultsPanel.Gene_TabularDocsum.uid\" sid=\"7\" type=\"checkbox\" value=\"1261517\"/></div></div><div><a href=\"/gene/1261517\" ref=\"ordinalpos=7&amp;ncbi_uid=1261517&amp;link_uid=1261517\"><span class=\"highlight\" style=\"background-color:\">A</span></a></div><span class=\"gene-id\">ID: 1261517</span></td><td>gpA [<em>Escherichia virus P2</em>]</td><td>NC_001895.1 (28034..30320)</td><td>P2p40</td></tr><tr class=\"rprt\"><td class=\"gene-name-id\"><div class=\"rprtnumcol\"><div class=\"rprtnum nohighlight\"><label class=\"ui-helper-hidden-accessible\" for=\"UidCheckBox3959786\">Select item 3959786</label><input id=\"UidCheckBox3959786\" name=\"EntrezSystem2.PEntrez.Gene.Gene_ResultsPanel.Gene_TabularDocsum.uid\" sid=\"8\" type=\"checkbox\" value=\"3959786\"/></div></div><div><a href=\"/gene/3959786\" ref=\"ordinalpos=8&amp;ncbi_uid=3959786&amp;link_uid=3959786\"><span class=\"highlight\" style=\"background-color:\">A</span></a></div><span class=\"gene-id\">ID: 3959786</span></td><td>protein <span class=\"highlight\" style=\"background-color:\">A</span>* [<em>Enterobacteria phage ID18 sensu lato</em>]</td><td>NC_007856.1 (704..1729)</td><td>CIV18_gp02</td></tr><tr class=\"rprt\"><td class=\"gene-name-id\"><div class=\"rprtnumcol\"><div class=\"rprtnum nohighlight\"><label class=\"ui-helper-hidden-accessible\" for=\"UidCheckBox3959785\">Select item 3959785</label><input id=\"UidCheckBox3959785\" name=\"EntrezSystem2.PEntrez.Gene.Gene_ResultsPanel.Gene_TabularDocsum.uid\" sid=\"9\" type=\"checkbox\" value=\"3959785\"/></div></div><div><a href=\"/gene/3959785\" ref=\"ordinalpos=9&amp;ncbi_uid=3959785&amp;link_uid=3959785\"><span class=\"highlight\" style=\"background-color:\">A</span></a></div><span class=\"gene-id\">ID: 3959785</span></td><td>DNA replication initiation protein gpA [<em>Enterobacteria phage ID18 sensu lato</em>]</td><td>NC_007856.1 (59..1729)</td><td>CIV18_gp01</td></tr><tr class=\"rprt\"><td class=\"gene-name-id\"><div class=\"rprtnumcol\"><div class=\"rprtnum nohighlight\"><label class=\"ui-helper-hidden-accessible\" for=\"UidCheckBox3959441\">Select item 3959441</label><input id=\"UidCheckBox3959441\" name=\"EntrezSystem2.PEntrez.Gene.Gene_ResultsPanel.Gene_TabularDocsum.uid\" sid=\"10\" type=\"checkbox\" value=\"3959441\"/></div></div><div><a href=\"/gene/3959441\" ref=\"ordinalpos=10&amp;ncbi_uid=3959441&amp;link_uid=3959441\"><span class=\"highlight\" style=\"background-color:\">A</span></a></div><span class=\"gene-id\">ID: 3959441</span></td><td>gpA [<em>Escherichia phage NC29</em>]</td><td>NC_007827.1 (762..2246)</td><td>CNV29_gp01</td></tr><tr class=\"rprt\"><td class=\"gene-name-id\"><div class=\"rprtnumcol\"><div class=\"rprtnum nohighlight\"><label class=\"ui-helper-hidden-accessible\" for=\"UidCheckBox3959420\">Select item 3959420</label><input id=\"UidCheckBox3959420\" name=\"EntrezSystem2.PEntrez.Gene.Gene_ResultsPanel.Gene_TabularDocsum.uid\" sid=\"11\" type=\"checkbox\" value=\"3959420\"/></div></div><div><a href=\"/gene/3959420\" ref=\"ordinalpos=11&amp;ncbi_uid=3959420&amp;link_uid=3959420\"><span class=\"highlight\" style=\"background-color:\">A</span>*</a></div><span class=\"gene-id\">ID: 3959420</span></td><td>gpA* [<em>Escherichia phage ID52</em>]</td><td>NC_007825.1 (698..1723)</td><td>CIV52_gp02</td></tr><tr class=\"rprt\"><td class=\"gene-name-id\"><div class=\"rprtnumcol\"><div class=\"rprtnum nohighlight\"><label class=\"ui-helper-hidden-accessible\" for=\"UidCheckBox3959419\">Select item 3959419</label><input id=\"UidCheckBox3959419\" name=\"EntrezSystem2.PEntrez.Gene.Gene_ResultsPanel.Gene_TabularDocsum.uid\" sid=\"12\" type=\"checkbox\" value=\"3959419\"/></div></div><div><a href=\"/gene/3959419\" ref=\"ordinalpos=12&amp;ncbi_uid=3959419&amp;link_uid=3959419\"><span class=\"highlight\" style=\"background-color:\">A</span></a></div><span class=\"gene-id\">ID: 3959419</span></td><td>gpA [<em>Escherichia phage ID52</em>]</td><td>NC_007825.1 (59..1723)</td><td>CIV52_gp01</td></tr><tr class=\"rprt\"><td class=\"gene-name-id\"><div class=\"rprtnumcol\"><div class=\"rprtnum nohighlight\"><label class=\"ui-helper-hidden-accessible\" for=\"UidCheckBox3959407\">Select item 3959407</label><input id=\"UidCheckBox3959407\" name=\"EntrezSystem2.PEntrez.Gene.Gene_ResultsPanel.Gene_TabularDocsum.uid\" sid=\"13\" type=\"checkbox\" value=\"3959407\"/></div></div><div><a href=\"/gene/3959407\" ref=\"ordinalpos=13&amp;ncbi_uid=3959407&amp;link_uid=3959407\"><span class=\"highlight\" style=\"background-color:\">A</span></a></div><span class=\"gene-id\">ID: 3959407</span></td><td>gpA [<em>Escherichia phage ID62</em>]</td><td>NC_007824.1 (760..2244)</td><td>CIV62_gp01</td></tr><tr class=\"rprt\"><td class=\"gene-name-id\"><div class=\"rprtnumcol\"><div class=\"rprtnum nohighlight\"><label class=\"ui-helper-hidden-accessible\" for=\"UidCheckBox3959393\">Select item 3959393</label><input id=\"UidCheckBox3959393\" name=\"EntrezSystem2.PEntrez.Gene.Gene_ResultsPanel.Gene_TabularDocsum.uid\" sid=\"14\" type=\"checkbox\" value=\"3959393\"/></div></div><div><a href=\"/gene/3959393\" ref=\"ordinalpos=14&amp;ncbi_uid=3959393&amp;link_uid=3959393\"><span class=\"highlight\" style=\"background-color:\">A</span></a></div><span class=\"gene-id\">ID: 3959393</span></td><td>gpA [<em>Escherichia phage NC28</em>]</td><td>NC_007823.1 (759..2243)</td><td>CNV-28p01</td></tr><tr class=\"rprt\"><td class=\"gene-name-id\"><div class=\"rprtnumcol\"><div class=\"rprtnum nohighlight\"><label class=\"ui-helper-hidden-accessible\" for=\"UidCheckBox3959386\">Select item 3959386</label><input id=\"UidCheckBox3959386\" name=\"EntrezSystem2.PEntrez.Gene.Gene_ResultsPanel.Gene_TabularDocsum.uid\" sid=\"15\" type=\"checkbox\" value=\"3959386\"/></div></div><div><a href=\"/gene/3959386\" ref=\"ordinalpos=15&amp;ncbi_uid=3959386&amp;link_uid=3959386\"><span class=\"highlight\" style=\"background-color:\">A</span></a></div><span class=\"gene-id\">ID: 3959386</span></td><td>gpA [<em>Escherichia phage WA45</em>]</td><td>NC_007822.1 (759..2243)</td><td>CWV45_gp01</td></tr><tr class=\"rprt\"><td class=\"gene-name-id\"><div class=\"rprtnumcol\"><div class=\"rprtnum nohighlight\"><label class=\"ui-helper-hidden-accessible\" for=\"UidCheckBox3959371\">Select item 3959371</label><input id=\"UidCheckBox3959371\" name=\"EntrezSystem2.PEntrez.Gene.Gene_ResultsPanel.Gene_TabularDocsum.uid\" sid=\"16\" type=\"checkbox\" value=\"3959371\"/></div></div><div><a href=\"/gene/3959371\" ref=\"ordinalpos=16&amp;ncbi_uid=3959371&amp;link_uid=3959371\"><span class=\"highlight\" style=\"background-color:\">A</span></a></div><span class=\"gene-id\">ID: 3959371</span></td><td>gpA [<em>Enterobacteria phage WA13 sensu lato</em>]</td><td>NC_007821.1 (759..2243)</td><td>CWV13_gp01</td></tr><tr class=\"rprt\"><td class=\"gene-name-id\"><div class=\"rprtnumcol\"><div class=\"rprtnum nohighlight\"><label class=\"ui-helper-hidden-accessible\" for=\"UidCheckBox3959360\">Select item 3959360</label><input id=\"UidCheckBox3959360\" name=\"EntrezSystem2.PEntrez.Gene.Gene_ResultsPanel.Gene_TabularDocsum.uid\" sid=\"17\" type=\"checkbox\" value=\"3959360\"/></div></div><div><a href=\"/gene/3959360\" ref=\"ordinalpos=17&amp;ncbi_uid=3959360&amp;link_uid=3959360\"><span class=\"highlight\" style=\"background-color:\">A</span></a></div><span class=\"gene-id\">ID: 3959360</span></td><td>gpA [<em>Escherichia phage NC35</em>]</td><td>NC_007820.1 (730..2214)</td><td>CNV35_gp01</td></tr><tr class=\"rprt\"><td class=\"gene-name-id\"><div class=\"rprtnumcol\"><div class=\"rprtnum nohighlight\"><label class=\"ui-helper-hidden-accessible\" for=\"UidCheckBox3959352\">Select item 3959352</label><input id=\"UidCheckBox3959352\" name=\"EntrezSystem2.PEntrez.Gene.Gene_ResultsPanel.Gene_TabularDocsum.uid\" sid=\"18\" type=\"checkbox\" value=\"3959352\"/></div></div><div><a href=\"/gene/3959352\" ref=\"ordinalpos=18&amp;ncbi_uid=3959352&amp;link_uid=3959352\"><span class=\"highlight\" style=\"background-color:\">A</span></a></div><span class=\"gene-id\">ID: 3959352</span></td><td>gpA [<em>Escherichia phage ID32</em>]</td><td>NC_007819.1 (763..2247)</td><td>CIV32_gp01</td></tr><tr class=\"rprt\"><td class=\"gene-name-id\"><div class=\"rprtnumcol\"><div class=\"rprtnum nohighlight\"><label class=\"ui-helper-hidden-accessible\" for=\"UidCheckBox3959338\">Select item 3959338</label><input id=\"UidCheckBox3959338\" name=\"EntrezSystem2.PEntrez.Gene.Gene_ResultsPanel.Gene_TabularDocsum.uid\" sid=\"19\" type=\"checkbox\" value=\"3959338\"/></div></div><div><a href=\"/gene/3959338\" ref=\"ordinalpos=19&amp;ncbi_uid=3959338&amp;link_uid=3959338\"><span class=\"highlight\" style=\"background-color:\">A</span></a></div><span class=\"gene-id\">ID: 3959338</span></td><td>gpA [<em>Escherichia phage ID21</em>]</td><td>NC_007818.1 (761..2245)</td><td>CIV21_gp01</td></tr><tr class=\"rprt\"><td class=\"gene-name-id\"><div class=\"rprtnumcol\"><div class=\"rprtnum nohighlight\"><label class=\"ui-helper-hidden-accessible\" for=\"UidCheckBox3959331\">Select item 3959331</label><input id=\"UidCheckBox3959331\" name=\"EntrezSystem2.PEntrez.Gene.Gene_ResultsPanel.Gene_TabularDocsum.uid\" sid=\"20\" type=\"checkbox\" value=\"3959331\"/></div></div><div><a href=\"/gene/3959331\" ref=\"ordinalpos=20&amp;ncbi_uid=3959331&amp;link_uid=3959331\"><span class=\"highlight\" style=\"background-color:\">A</span></a></div><span class=\"gene-id\">ID: 3959331</span></td><td>protein <span class=\"highlight\" style=\"background-color:\">A</span>* [<em>Enterobacteria phage ID2 Moscow/ID/2001</em>]</td><td>NC_007817.1 (698..1723)</td><td>CIV2_gp02</td></tr></tbody></table>\n"
          ],
          "name": "stdout"
        }
      ]
    },
    {
      "cell_type": "code",
      "metadata": {
        "id": "z2wFuSzu9yT3",
        "outputId": "b2a1761e-eef4-4ea5-897d-f63f2cb1b73b",
        "colab": {
          "base_uri": "https://localhost:8080/"
        }
      },
      "source": [
        "id=tabla.find_all('span',class_='gene-id')\n",
        "ide=[]\n",
        "for i in range(0,len(id)):\n",
        "  ide.append(id[i].get_text())\n",
        "ide"
      ],
      "execution_count": 5,
      "outputs": [
        {
          "output_type": "execute_result",
          "data": {
            "text/plain": [
              "['ID: 50518',\n",
              " 'ID: 43852',\n",
              " 'ID: 2703524',\n",
              " 'ID: 100532921',\n",
              " 'ID: 1260690',\n",
              " 'ID: 17494423',\n",
              " 'ID: 1261517',\n",
              " 'ID: 3959786',\n",
              " 'ID: 3959785',\n",
              " 'ID: 3959441',\n",
              " 'ID: 3959420',\n",
              " 'ID: 3959419',\n",
              " 'ID: 3959407',\n",
              " 'ID: 3959393',\n",
              " 'ID: 3959386',\n",
              " 'ID: 3959371',\n",
              " 'ID: 3959360',\n",
              " 'ID: 3959352',\n",
              " 'ID: 3959338',\n",
              " 'ID: 3959331']"
            ]
          },
          "metadata": {
            "tags": []
          },
          "execution_count": 5
        }
      ]
    },
    {
      "cell_type": "code",
      "metadata": {
        "id": "X2DlTqsKuGp8",
        "outputId": "d9f06efe-83b0-482f-aff6-afc1db28eb4d",
        "colab": {
          "base_uri": "https://localhost:8080/"
        }
      },
      "source": [
        "len(id)"
      ],
      "execution_count": 6,
      "outputs": [
        {
          "output_type": "execute_result",
          "data": {
            "text/plain": [
              "20"
            ]
          },
          "metadata": {
            "tags": []
          },
          "execution_count": 6
        }
      ]
    },
    {
      "cell_type": "code",
      "metadata": {
        "id": "fuuZa9-Osqqq",
        "outputId": "a132a6da-01b5-4d05-ed53-c251c0152ac1",
        "colab": {
          "base_uri": "https://localhost:8080/",
          "height": 246
        }
      },
      "source": [
        ""
      ],
      "execution_count": 11,
      "outputs": [
        {
          "output_type": "error",
          "ename": "NameError",
          "evalue": "ignored",
          "traceback": [
            "\u001b[0;31m---------------------------------------------------------------------------\u001b[0m",
            "\u001b[0;31mNameError\u001b[0m                                 Traceback (most recent call last)",
            "\u001b[0;32m<ipython-input-11-54f50791b458>\u001b[0m in \u001b[0;36m<module>\u001b[0;34m()\u001b[0m\n\u001b[0;32m----> 1\u001b[0;31m \u001b[0mdescr\u001b[0m\u001b[0;34m=\u001b[0m\u001b[0mtabla\u001b[0m\u001b[0;34m.\u001b[0m\u001b[0mfind_all\u001b[0m\u001b[0;34m(\u001b[0m\u001b[0;34m'td'\u001b[0m\u001b[0;34m,\u001b[0m\u001b[0;34m{\u001b[0m\u001b[0mclass_\u001b[0m\u001b[0;34m:\u001b[0m\u001b[0;34m'em'\u001b[0m\u001b[0;34m}\u001b[0m\u001b[0;34m)\u001b[0m\u001b[0;34m\u001b[0m\u001b[0;34m\u001b[0m\u001b[0m\n\u001b[0m\u001b[1;32m      2\u001b[0m \u001b[0mdes\u001b[0m\u001b[0;34m=\u001b[0m\u001b[0;34m[\u001b[0m\u001b[0;34m]\u001b[0m\u001b[0;34m\u001b[0m\u001b[0;34m\u001b[0m\u001b[0m\n\u001b[1;32m      3\u001b[0m \u001b[0;32mfor\u001b[0m \u001b[0mi\u001b[0m \u001b[0;32min\u001b[0m \u001b[0mrange\u001b[0m\u001b[0;34m(\u001b[0m\u001b[0;36m0\u001b[0m\u001b[0;34m,\u001b[0m\u001b[0mlen\u001b[0m\u001b[0;34m(\u001b[0m\u001b[0mid\u001b[0m\u001b[0;34m)\u001b[0m\u001b[0;34m)\u001b[0m\u001b[0;34m:\u001b[0m\u001b[0;34m\u001b[0m\u001b[0;34m\u001b[0m\u001b[0m\n\u001b[1;32m      4\u001b[0m   \u001b[0mdes\u001b[0m\u001b[0;34m.\u001b[0m\u001b[0mappend\u001b[0m\u001b[0;34m(\u001b[0m\u001b[0mdescr\u001b[0m\u001b[0;34m[\u001b[0m\u001b[0mi\u001b[0m\u001b[0;34m]\u001b[0m\u001b[0;34m.\u001b[0m\u001b[0mget_text\u001b[0m\u001b[0;34m(\u001b[0m\u001b[0;34m)\u001b[0m\u001b[0;34m)\u001b[0m\u001b[0;34m\u001b[0m\u001b[0;34m\u001b[0m\u001b[0m\n\u001b[1;32m      5\u001b[0m \u001b[0mdes\u001b[0m\u001b[0;34m\u001b[0m\u001b[0;34m\u001b[0m\u001b[0m\n",
            "\u001b[0;31mNameError\u001b[0m: name 'class_' is not defined"
          ]
        }
      ]
    }
  ]
}